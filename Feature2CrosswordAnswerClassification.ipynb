{
 "cells": [
  {
   "cell_type": "markdown",
   "id": "ca475974-318a-4c5e-92bc-e381dbff5724",
   "metadata": {},
   "source": [
    "### Brainstorm \n",
    "- Option 1: Manually label a thousand hints, then train classification model from scratch.\n",
    "    - Could also just use GPT-4 or Deepseek to classify some examples, then train off of that... \n",
    "- Option 2: Use pre-trained customizable zero-shot classification model (like Gliner)."
   ]
  },
  {
   "cell_type": "code",
   "execution_count": null,
   "id": "b4f25a20-e544-470a-aec2-f16f32b5fa9b",
   "metadata": {},
   "outputs": [],
   "source": []
  }
 ],
 "metadata": {
  "kernelspec": {
   "display_name": "Python 3 (ipykernel)",
   "language": "python",
   "name": "python3"
  },
  "language_info": {
   "codemirror_mode": {
    "name": "ipython",
    "version": 3
   },
   "file_extension": ".py",
   "mimetype": "text/x-python",
   "name": "python",
   "nbconvert_exporter": "python",
   "pygments_lexer": "ipython3",
   "version": "3.11.11"
  }
 },
 "nbformat": 4,
 "nbformat_minor": 5
}
